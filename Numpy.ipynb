{
  "nbformat": 4,
  "nbformat_minor": 0,
  "metadata": {
    "colab": {
      "name": "Numpy.ipynb",
      "provenance": [],
      "collapsed_sections": [],
      "authorship_tag": "ABX9TyMJSKnxFTuW0sobcy8+DEqA",
      "include_colab_link": true
    },
    "kernelspec": {
      "name": "python3",
      "display_name": "Python 3"
    },
    "language_info": {
      "name": "python"
    }
  },
  "cells": [
    {
      "cell_type": "markdown",
      "metadata": {
        "id": "view-in-github",
        "colab_type": "text"
      },
      "source": [
        "<a href=\"https://colab.research.google.com/github/DerinOgrenme2021/BarisYildiz/blob/main/Numpy.ipynb\" target=\"_parent\"><img src=\"https://colab.research.google.com/assets/colab-badge.svg\" alt=\"Open In Colab\"/></a>"
      ]
    },
    {
      "cell_type": "code",
      "metadata": {
        "id": "A0vOpGxlLyZR"
      },
      "source": [
        "!wget \"http://vis-www.cs.umass.edu/lfw/lfw.tgz\""
      ],
      "execution_count": null,
      "outputs": []
    },
    {
      "cell_type": "code",
      "metadata": {
        "id": "9ogkVwbDMMW1"
      },
      "source": [
        "!tar xvzf lfw.tgz"
      ],
      "execution_count": null,
      "outputs": []
    },
    {
      "cell_type": "code",
      "metadata": {
        "colab": {
          "base_uri": "https://localhost:8080/"
        },
        "id": "S23RL8wOMWV0",
        "outputId": "d2b34604-95ab-47c2-ced4-380df4f524f8"
      },
      "source": [
        "from skimage.io import imread_collection\n",
        "from skimage.io import imsave\n",
        "import numpy as np\n",
        "\n",
        "numpy_image = np.zeros([250,250,3] , dtype = float)\n",
        "\n",
        "listofimages = imread_collection(\"lfw/*/*.jpg\")[200:350]\n",
        "\n",
        "for image in listofimages:\n",
        "\n",
        "  numpy_image = numpy_image + image \n",
        "\n",
        "imsave(\"finalimage.jpg\",numpy_image)\n"
      ],
      "execution_count": null,
      "outputs": [
        {
          "output_type": "stream",
          "text": [
            "WARNING:root:Lossy conversion from float64 to uint8. Range [7359.0, 30407.0]. Convert image to uint8 prior to saving to suppress this warning.\n"
          ],
          "name": "stderr"
        }
      ]
    }
  ]
}