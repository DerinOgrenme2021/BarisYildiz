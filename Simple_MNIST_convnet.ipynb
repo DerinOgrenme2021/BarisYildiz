{
  "nbformat": 4,
  "nbformat_minor": 0,
  "metadata": {
    "colab": {
      "name": "Simple MNIST convnet.ipynb",
      "provenance": [],
      "authorship_tag": "ABX9TyMekMuq+dhxMjRs4jkDVPVA",
      "include_colab_link": true
    },
    "kernelspec": {
      "name": "python3",
      "display_name": "Python 3"
    },
    "language_info": {
      "name": "python"
    }
  },
  "cells": [
    {
      "cell_type": "markdown",
      "metadata": {
        "id": "view-in-github",
        "colab_type": "text"
      },
      "source": [
        "<a href=\"https://colab.research.google.com/github/DerinOgrenme2021/BarisYildiz/blob/main/Simple_MNIST_convnet.ipynb\" target=\"_parent\"><img src=\"https://colab.research.google.com/assets/colab-badge.svg\" alt=\"Open In Colab\"/></a>"
      ]
    },
    {
      "cell_type": "code",
      "metadata": {
        "id": "gxhyQngk630u"
      },
      "source": [
        "import numpy as np\n",
        "from tensorflow import keras\n",
        "from tensorflow.keras import layers"
      ],
      "execution_count": 1,
      "outputs": []
    },
    {
      "cell_type": "code",
      "metadata": {
        "colab": {
          "base_uri": "https://localhost:8080/"
        },
        "id": "xh-LPJ1V-5A8",
        "outputId": "772e265d-8ed9-4161-d315-7855057dcfa9"
      },
      "source": [
        "# Model / data parameters\n",
        "num_classes = 10\n",
        "input_shape = (28, 28, 1)\n",
        "\n",
        "# the data, split between train and test sets\n",
        "(x_train, y_train), (x_test, y_test) = keras.datasets.mnist.load_data()\n",
        "\n",
        "# Scale images to the [0, 1] range\n",
        "x_train = x_train.astype(\"float32\") / 255\n",
        "x_test = x_test.astype(\"float32\") / 255\n",
        "# Make sure images have shape (28, 28, 1)\n",
        "x_train = np.expand_dims(x_train, -1)\n",
        "x_test = np.expand_dims(x_test, -1)\n",
        "print(\"x_train shape:\", x_train.shape)\n",
        "print(x_train.shape[0], \"train samples\")\n",
        "print(x_test.shape[0], \"test samples\")\n",
        "\n",
        "\n",
        "# convert class vectors to binary class matrices\n",
        "y_train = keras.utils.to_categorical(y_train, num_classes)\n",
        "y_test = keras.utils.to_categorical(y_test, num_classes)"
      ],
      "execution_count": 2,
      "outputs": [
        {
          "output_type": "stream",
          "text": [
            "Downloading data from https://storage.googleapis.com/tensorflow/tf-keras-datasets/mnist.npz\n",
            "11493376/11490434 [==============================] - 0s 0us/step\n",
            "x_train shape: (60000, 28, 28, 1)\n",
            "60000 train samples\n",
            "10000 test samples\n"
          ],
          "name": "stdout"
        }
      ]
    },
    {
      "cell_type": "code",
      "metadata": {
        "colab": {
          "base_uri": "https://localhost:8080/"
        },
        "id": "mV47qNSL-6pe",
        "outputId": "6e47f9fe-5091-4589-8093-85ee693767c9"
      },
      "source": [
        "model = keras.Sequential(\n",
        "    [\n",
        "        keras.Input(shape=input_shape),\n",
        "        layers.Conv2D(32, kernel_size=(3, 3), activation=\"relu\"),\n",
        "        layers.MaxPooling2D(pool_size=(2, 2)),\n",
        "        layers.Conv2D(64, kernel_size=(3, 3), activation=\"relu\"),\n",
        "        layers.MaxPooling2D(pool_size=(2, 2)),\n",
        "        layers.Flatten(),\n",
        "        layers.Dropout(0.5),\n",
        "        layers.Dense(num_classes, activation=\"softmax\"),\n",
        "    ]\n",
        ")\n",
        "\n",
        "model.summary()"
      ],
      "execution_count": 3,
      "outputs": [
        {
          "output_type": "stream",
          "text": [
            "WARNING:tensorflow:Please add `keras.layers.InputLayer` instead of `keras.Input` to Sequential model. `keras.Input` is intended to be used by Functional model.\n",
            "Model: \"sequential\"\n",
            "_________________________________________________________________\n",
            "Layer (type)                 Output Shape              Param #   \n",
            "=================================================================\n",
            "conv2d (Conv2D)              (None, 26, 26, 32)        320       \n",
            "_________________________________________________________________\n",
            "max_pooling2d (MaxPooling2D) (None, 13, 13, 32)        0         \n",
            "_________________________________________________________________\n",
            "conv2d_1 (Conv2D)            (None, 11, 11, 64)        18496     \n",
            "_________________________________________________________________\n",
            "max_pooling2d_1 (MaxPooling2 (None, 5, 5, 64)          0         \n",
            "_________________________________________________________________\n",
            "flatten (Flatten)            (None, 1600)              0         \n",
            "_________________________________________________________________\n",
            "dropout (Dropout)            (None, 1600)              0         \n",
            "_________________________________________________________________\n",
            "dense (Dense)                (None, 10)                16010     \n",
            "=================================================================\n",
            "Total params: 34,826\n",
            "Trainable params: 34,826\n",
            "Non-trainable params: 0\n",
            "_________________________________________________________________\n"
          ],
          "name": "stdout"
        }
      ]
    },
    {
      "cell_type": "code",
      "metadata": {
        "colab": {
          "base_uri": "https://localhost:8080/"
        },
        "id": "uK-BhUMp_sBr",
        "outputId": "540db2ba-73ad-4c2d-b795-1da7379b085e"
      },
      "source": [
        "batch_size = 128\n",
        "epochs = 15\n",
        "\n",
        "model.compile(loss=\"categorical_crossentropy\", optimizer=\"adam\", metrics=[\"accuracy\"])\n",
        "\n",
        "model.fit(x_train, y_train, batch_size=batch_size, epochs=epochs, validation_split=0.1)"
      ],
      "execution_count": 4,
      "outputs": [
        {
          "output_type": "stream",
          "text": [
            "Epoch 1/15\n",
            "422/422 [==============================] - 43s 101ms/step - loss: 0.3761 - accuracy: 0.8861 - val_loss: 0.0787 - val_accuracy: 0.9797\n",
            "Epoch 2/15\n",
            "422/422 [==============================] - 42s 100ms/step - loss: 0.1115 - accuracy: 0.9658 - val_loss: 0.0585 - val_accuracy: 0.9833\n",
            "Epoch 3/15\n",
            "422/422 [==============================] - 42s 100ms/step - loss: 0.0835 - accuracy: 0.9745 - val_loss: 0.0459 - val_accuracy: 0.9873\n",
            "Epoch 4/15\n",
            "422/422 [==============================] - 42s 100ms/step - loss: 0.0702 - accuracy: 0.9776 - val_loss: 0.0412 - val_accuracy: 0.9885\n",
            "Epoch 5/15\n",
            "422/422 [==============================] - 42s 100ms/step - loss: 0.0625 - accuracy: 0.9806 - val_loss: 0.0394 - val_accuracy: 0.9900\n",
            "Epoch 6/15\n",
            "422/422 [==============================] - 42s 99ms/step - loss: 0.0570 - accuracy: 0.9823 - val_loss: 0.0348 - val_accuracy: 0.9902\n",
            "Epoch 7/15\n",
            "422/422 [==============================] - 42s 99ms/step - loss: 0.0509 - accuracy: 0.9839 - val_loss: 0.0347 - val_accuracy: 0.9908\n",
            "Epoch 8/15\n",
            "422/422 [==============================] - 42s 100ms/step - loss: 0.0471 - accuracy: 0.9851 - val_loss: 0.0352 - val_accuracy: 0.9897\n",
            "Epoch 9/15\n",
            "422/422 [==============================] - 42s 100ms/step - loss: 0.0451 - accuracy: 0.9850 - val_loss: 0.0351 - val_accuracy: 0.9900\n",
            "Epoch 10/15\n",
            "422/422 [==============================] - 42s 100ms/step - loss: 0.0436 - accuracy: 0.9860 - val_loss: 0.0317 - val_accuracy: 0.9905\n",
            "Epoch 11/15\n",
            "422/422 [==============================] - 42s 100ms/step - loss: 0.0401 - accuracy: 0.9874 - val_loss: 0.0296 - val_accuracy: 0.9927\n",
            "Epoch 12/15\n",
            "422/422 [==============================] - 42s 99ms/step - loss: 0.0389 - accuracy: 0.9876 - val_loss: 0.0342 - val_accuracy: 0.9913\n",
            "Epoch 13/15\n",
            "422/422 [==============================] - 42s 99ms/step - loss: 0.0368 - accuracy: 0.9882 - val_loss: 0.0315 - val_accuracy: 0.9920\n",
            "Epoch 14/15\n",
            "422/422 [==============================] - 42s 100ms/step - loss: 0.0356 - accuracy: 0.9883 - val_loss: 0.0316 - val_accuracy: 0.9923\n",
            "Epoch 15/15\n",
            "422/422 [==============================] - 42s 99ms/step - loss: 0.0328 - accuracy: 0.9894 - val_loss: 0.0288 - val_accuracy: 0.9920\n"
          ],
          "name": "stdout"
        },
        {
          "output_type": "execute_result",
          "data": {
            "text/plain": [
              "<tensorflow.python.keras.callbacks.History at 0x7faf9378e950>"
            ]
          },
          "metadata": {
            "tags": []
          },
          "execution_count": 4
        }
      ]
    },
    {
      "cell_type": "code",
      "metadata": {
        "colab": {
          "base_uri": "https://localhost:8080/"
        },
        "id": "oU2FISqkDNKP",
        "outputId": "ecd52b07-384b-4120-c6f3-83f91f065aa9"
      },
      "source": [
        "score = model.evaluate(x_test, y_test, verbose=0)\n",
        "print(\"Test loss:\", score[0])\n",
        "print(\"Test accuracy:\", score[1])"
      ],
      "execution_count": 5,
      "outputs": [
        {
          "output_type": "stream",
          "text": [
            "Test loss: 0.024515969678759575\n",
            "Test accuracy: 0.9912999868392944\n"
          ],
          "name": "stdout"
        }
      ]
    }
  ]
}